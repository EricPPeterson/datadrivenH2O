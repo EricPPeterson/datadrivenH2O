{
 "cells": [
  {
   "cell_type": "markdown",
   "metadata": {},
   "source": [
    "\n",
    "Driven Data Water Contest"
   ]
  },
  {
   "cell_type": "markdown",
   "metadata": {},
   "source": [
    "Import needed libraries"
   ]
  },
  {
   "cell_type": "code",
   "execution_count": null,
   "metadata": {},
   "outputs": [],
   "source": [
    "import pandas as pd\n",
    "import numpy as np\n",
    "import matplotlib.pyplot as plt"
   ]
  },
  {
   "cell_type": "code",
   "execution_count": null,
   "metadata": {},
   "outputs": [],
   "source": [
    "#import data\n",
    "train = pd.read_csv('/Users/ericp/OneDrive/Documents/GitHub/datadrivenH2O/train.csv')\n",
    "target = pd.read_csv('/Users/ericp/OneDrive/Documents/GitHub/datadrivenH2O/target.csv')\n",
    "test = pd.read_csv('/Users/ericp/OneDrive/Documents/GitHub/datadrivenH2O/test.csv')\n",
    "train_id = train['id']\n",
    "test_id = test['id']\n",
    "train = train.drop(['id'], axis = 1)\n",
    "test = test.drop(['id'], axis = 1)\n",
    "colnames = train.columns\n",
    "train_shape = train.shape[0]\n",
    "train.head(10)\n"
   ]
  },
  {
   "cell_type": "code",
   "execution_count": null,
   "metadata": {},
   "outputs": [],
   "source": [
    "#look at train / test shapes\n",
    "print(train.shape)\n",
    "print(test.shape)\n",
    "print(target.shape)"
   ]
  },
  {
   "cell_type": "code",
   "execution_count": null,
   "metadata": {},
   "outputs": [],
   "source": [
    "#look at the value_counts of the target variable\n",
    "target['status_group'].value_counts()"
   ]
  },
  {
   "cell_type": "code",
   "execution_count": null,
   "metadata": {},
   "outputs": [],
   "source": [
    "#LabelEncode target variable\n",
    "from sklearn.preprocessing import LabelEncoder\n",
    "le = LabelEncoder()\n",
    "target['status_group'] = le.fit_transform(target['status_group'])\n",
    "target['status_group'].value_counts()\n",
    "#functional = 0\n",
    "#non-functional = 1\n",
    "#functional needs repair = 2"
   ]
  },
  {
   "cell_type": "code",
   "execution_count": null,
   "metadata": {},
   "outputs": [],
   "source": [
    "#look at correlations of variables with target\n",
    "#check for correlation between target and predictors\n",
    "target_corr = list()\n",
    "\n",
    "for c, v in enumerate(train, start = 1):\n",
    "    target_corr.append(target.corrwith(train[v], method = 'spearman'))\n",
    "    \n",
    "target_corr = pd.Series(data = target_corr, index = train.columns, name = 'correlation')\n",
    "target_corr = abs(target_corr)\n",
    "target_corr\n",
    "#not a lot highly correlated with the target"
   ]
  },
  {
   "cell_type": "code",
   "execution_count": null,
   "metadata": {},
   "outputs": [],
   "source": [
    "#combine data\n",
    "combine = pd.concat([train, test],  axis = 0).reset_index(drop = True)"
   ]
  },
  {
   "cell_type": "code",
   "execution_count": null,
   "metadata": {},
   "outputs": [],
   "source": [
    "#look for missing values\n",
    "miss_vals = pd.Series(combine.isnull().sum(), name = 'PctMissing')\n",
    "miss_vals = miss_vals[miss_vals!=0]\n",
    "miss_vals = miss_vals.sort_values(ascending = False)\n",
    "print(miss_vals)"
   ]
  },
  {
   "cell_type": "code",
   "execution_count": null,
   "metadata": {},
   "outputs": [],
   "source": [
    "#pct missing\n",
    "miss_vals / len (combine)"
   ]
  },
  {
   "cell_type": "code",
   "execution_count": null,
   "metadata": {},
   "outputs": [],
   "source": [
    "#these variables all seem to be about area / region. Might be best to use the mode of the region they're in\n",
    "combine['subvillage'] = combine.groupby('region')['subvillage'].transform(lambda x:x.fillna(x.mode()[0]))\n",
    "combine['public_meeting'] = combine.groupby('region')['public_meeting'].transform(lambda x:x.fillna(x.mode()[0]))\n",
    "combine['permit'] = combine.groupby('region')['permit'].transform(lambda x:x.fillna(x.mode()[0]))\n",
    "combine['funder'] = combine.groupby('region')['funder'].transform(lambda x:x.fillna(x.mode()[0]))\n",
    "combine['installer'] = combine.groupby('region')['funder'].transform(lambda x:x.fillna(x.mode()[0]))\n",
    "combine['scheme_management'] = combine.groupby('region')['scheme_management'].transform(lambda x:x.fillna(x.mode()[0]))"
   ]
  },
  {
   "cell_type": "code",
   "execution_count": null,
   "metadata": {},
   "outputs": [],
   "source": [
    "#scheme_management and scheme_name seem to be redundant. Lots of missing values for scheme_name. Will delete.\n",
    "#region and region_code same. Will delete region\n",
    "#extraction_type_group seems identical to extraction_type\n",
    "combine = combine.drop(['scheme_name', 'region', 'extraction_type_group', 'management_group', 'payment_type'], axis = 1)"
   ]
  },
  {
   "cell_type": "code",
   "execution_count": null,
   "metadata": {},
   "outputs": [],
   "source": [
    "#check missing values\n",
    "miss_vals = pd.Series(combine.isnull().sum(), name = 'PctMissing')\n",
    "miss_vals = miss_vals[miss_vals!=0]\n",
    "miss_vals = miss_vals.sort_values(ascending = False)\n",
    "print(miss_vals)"
   ]
  },
  {
   "cell_type": "code",
   "execution_count": null,
   "metadata": {},
   "outputs": [],
   "source": [
    "dtyp = pd.Series(combine.dtypes, name = 'dtype')\n",
    "dtyp"
   ]
  },
  {
   "cell_type": "code",
   "execution_count": null,
   "metadata": {},
   "outputs": [],
   "source": [
    "#some items as int are actually objects\n",
    "combine['construction_year'] = combine['construction_year'].astype('object')"
   ]
  },
  {
   "cell_type": "code",
   "execution_count": null,
   "metadata": {},
   "outputs": [],
   "source": [
    "#check correlations between variables. See if there's some that can be deleted\n",
    "f = plt.figure(figsize=(8, 8))\n",
    "plt.matshow(combine.corr(), fignum=f.number)\n",
    "plt.yticks(range(combine.select_dtypes(['number']).shape[1]), combine.select_dtypes(['number']).columns, fontsize=14)\n",
    "cb = plt.colorbar()\n",
    "cb.ax.tick_params(labelsize=14)\n",
    "plt.title('Correlation Matrix', fontsize=16);"
   ]
  },
  {
   "cell_type": "code",
   "execution_count": null,
   "metadata": {},
   "outputs": [],
   "source": [
    "corr_df = combine.corr()\n",
    "corr_df\n",
    "#all correlations quite low. Keep all predictors."
   ]
  },
  {
   "cell_type": "code",
   "execution_count": null,
   "metadata": {},
   "outputs": [],
   "source": [
    "#label encode columns where there is structure (i.e. levels)\n",
    "le_columns = ['date_recorded', 'permit']"
   ]
  },
  {
   "cell_type": "code",
   "execution_count": null,
   "metadata": {},
   "outputs": [],
   "source": [
    "train = combine[:train_shape]\n",
    "test = combine[train_shape:]\n",
    "print(train.shape)\n",
    "print(test.shape)"
   ]
  },
  {
   "cell_type": "code",
   "execution_count": null,
   "metadata": {},
   "outputs": [],
   "source": [
    "#import necessary libraries\n",
    "from sklearn.ensemble import RandomForestClassifier\n",
    "from lightgbm import LGBMClassifier\n",
    "from xgboost import XGBClassifier"
   ]
  },
  {
   "cell_type": "code",
   "execution_count": null,
   "metadata": {},
   "outputs": [],
   "source": [
    "#create metric to determine accuracy\n",
    "from sklearn.model_selection import KFold, cross_val_score\n",
    "def accuracy(model, X, y, n = 5):\n",
    "    kf = KFold(n, random_state = 1, shuffle = True)\n",
    "    acc = cross_val_score(model, X, y, scoring = 'accuracy', cv = kf)\n",
    "    return acc    "
   ]
  },
  {
   "cell_type": "markdown",
   "metadata": {},
   "source": [
    "Create Base Models"
   ]
  },
  {
   "cell_type": "code",
   "execution_count": null,
   "metadata": {},
   "outputs": [],
   "source": [
    "#create base models\n",
    "lgb = LGBMClassifier()\n",
    "rf = RandomForestClassifier()\n",
    "xgb = XGBClassifier()"
   ]
  },
  {
   "cell_type": "markdown",
   "metadata": {},
   "source": [
    "Base Model Scores"
   ]
  },
  {
   "cell_type": "code",
   "execution_count": null,
   "metadata": {},
   "outputs": [],
   "source": [
    "score = accuracy(rf, train, target)"
   ]
  },
  {
   "cell_type": "code",
   "execution_count": null,
   "metadata": {},
   "outputs": [],
   "source": []
  }
 ],
 "metadata": {
  "kernelspec": {
   "display_name": "Python 3",
   "language": "python",
   "name": "python3"
  },
  "language_info": {
   "codemirror_mode": {
    "name": "ipython",
    "version": 3
   },
   "file_extension": ".py",
   "mimetype": "text/x-python",
   "name": "python",
   "nbconvert_exporter": "python",
   "pygments_lexer": "ipython3",
   "version": "3.7.6"
  }
 },
 "nbformat": 4,
 "nbformat_minor": 4
}
